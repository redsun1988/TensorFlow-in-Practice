{
  "nbformat": 4,
  "nbformat_minor": 0,
  "metadata": {
    "colab": {
      "name": "Exercise2-Question.ipynb",
      "provenance": [],
      "collapsed_sections": [],
      "toc_visible": true
    },
    "kernelspec": {
      "name": "python3",
      "display_name": "Python 3"
    },
    "accelerator": "GPU"
  },
  "cells": [
    {
      "cell_type": "markdown",
      "metadata": {
        "colab_type": "text",
        "id": "tOoyQ70H00_s"
      },
      "source": [
        "## Exercise 2\n",
        "In the course you learned how to do classification using Fashion MNIST, a data set containing items of clothing. There's another, similar dataset called MNIST which has items of handwriting -- the digits 0 through 9.\n",
        "\n",
        "Write an MNIST classifier that trains to 99% accuracy or above, and does it without a fixed number of epochs -- i.e. you should stop training once you reach that level of accuracy.\n",
        "\n",
        "Some notes:\n",
        "1. It should succeed in less than 10 epochs, so it is okay to change epochs to 10, but nothing larger\n",
        "2. When it reaches 99% or greater it should print out the string \"Reached 99% accuracy so cancelling training!\"\n",
        "3. If you add any additional variables, make sure you use the same names as the ones used in the class\n",
        "\n",
        "I've started the code for you below -- how would you finish it? "
      ]
    },
    {
      "cell_type": "code",
      "metadata": {
        "colab_type": "code",
        "id": "9rvXQGAA0ssC",
        "colab": {
          "base_uri": "https://localhost:8080/",
          "height": 34
        },
        "outputId": "279da61a-5c87-4618-f780-1a34980a40cc"
      },
      "source": [
        "import tensorflow as tf\n",
        "import numpy as np\n",
        "print(\"TF version - \", tf.__version__)\n",
        "mnist = tf.keras.datasets.mnist\n",
        "\n",
        "(x_train, y_train),(x_test, y_test) = mnist.load_data()"
      ],
      "execution_count": 6,
      "outputs": [
        {
          "output_type": "stream",
          "text": [
            "TF version -  2.2.0-rc2\n"
          ],
          "name": "stdout"
        }
      ]
    },
    {
      "cell_type": "code",
      "metadata": {
        "id": "X6KRvtcTc4nX",
        "colab_type": "code",
        "colab": {
          "base_uri": "https://localhost:8080/",
          "height": 382
        },
        "outputId": "1ee30d32-a5c5-4d73-9223-9af766378855"
      },
      "source": [
        "#Print the size\n",
        "print(\"image size is - \", x_train[0].shape)\n",
        "#Let's check the array unique values\n",
        "print(np.unique(x_train[0]))\n",
        "#Visualize the image\n",
        "import matplotlib.pyplot as plt\n",
        "plt.imshow(x_train[0])"
      ],
      "execution_count": 2,
      "outputs": [
        {
          "output_type": "stream",
          "text": [
            "image size is -  (28, 28)\n",
            "[  0   1   2   3   9  11  14  16  18  23  24  25  26  27  30  35  36  39\n",
            "  43  45  46  49  55  56  64  66  70  78  80  81  82  90  93  94 107 108\n",
            " 114 119 126 127 130 132 133 135 136 139 148 150 154 156 160 166 170 171\n",
            " 172 175 182 183 186 187 190 195 198 201 205 207 212 213 219 221 225 226\n",
            " 229 238 240 241 242 244 247 249 250 251 252 253 255]\n"
          ],
          "name": "stdout"
        },
        {
          "output_type": "execute_result",
          "data": {
            "text/plain": [
              "<matplotlib.image.AxesImage at 0x7fd17caec2e8>"
            ]
          },
          "metadata": {
            "tags": []
          },
          "execution_count": 2
        },
        {
          "output_type": "display_data",
          "data": {
            "image/png": "[encoded data removed]",
            "text/plain": [
              "<Figure size 432x288 with 1 Axes>"
            ]
          },
          "metadata": {
            "tags": []
          }
        }
      ]
    },
    {
      "cell_type": "code",
      "metadata": {
        "id": "WakTNpt-gkF5",
        "colab_type": "code",
        "colab": {}
      },
      "source": [
        "#We need to map all values between 0 and 1\n",
        "x_train = x_train / 255.\n",
        "x_test = x_test / 255."
      ],
      "execution_count": 0,
      "outputs": []
    },
    {
      "cell_type": "code",
      "metadata": {
        "id": "EIu2Uh3khFMi",
        "colab_type": "code",
        "colab": {
          "base_uri": "https://localhost:8080/",
          "height": 550
        },
        "outputId": "e1a22172-c063-485e-c2e3-e3f2d6d580be"
      },
      "source": [
        "#Print the size\n",
        "print(\"image size is - \", x_train[0].shape)\n",
        "#Let's check the array unique values\n",
        "print(np.unique(x_train[0]))\n",
        "#Visualize the image\n",
        "import matplotlib.pyplot as plt\n",
        "plt.imshow(x_train[0])"
      ],
      "execution_count": 4,
      "outputs": [
        {
          "output_type": "stream",
          "text": [
            "image size is -  (28, 28)\n",
            "[0.         0.00392157 0.00784314 0.01176471 0.03529412 0.04313725\n",
            " 0.05490196 0.0627451  0.07058824 0.09019608 0.09411765 0.09803922\n",
            " 0.10196078 0.10588235 0.11764706 0.1372549  0.14117647 0.15294118\n",
            " 0.16862745 0.17647059 0.18039216 0.19215686 0.21568627 0.21960784\n",
            " 0.25098039 0.25882353 0.2745098  0.30588235 0.31372549 0.31764706\n",
            " 0.32156863 0.35294118 0.36470588 0.36862745 0.41960784 0.42352941\n",
            " 0.44705882 0.46666667 0.49411765 0.49803922 0.50980392 0.51764706\n",
            " 0.52156863 0.52941176 0.53333333 0.54509804 0.58039216 0.58823529\n",
            " 0.60392157 0.61176471 0.62745098 0.65098039 0.66666667 0.67058824\n",
            " 0.6745098  0.68627451 0.71372549 0.71764706 0.72941176 0.73333333\n",
            " 0.74509804 0.76470588 0.77647059 0.78823529 0.80392157 0.81176471\n",
            " 0.83137255 0.83529412 0.85882353 0.86666667 0.88235294 0.88627451\n",
            " 0.89803922 0.93333333 0.94117647 0.94509804 0.94901961 0.95686275\n",
            " 0.96862745 0.97647059 0.98039216 0.98431373 0.98823529 0.99215686\n",
            " 1.        ]\n"
          ],
          "name": "stdout"
        },
        {
          "output_type": "execute_result",
          "data": {
            "text/plain": [
              "<matplotlib.image.AxesImage at 0x7fd17c6395f8>"
            ]
          },
          "metadata": {
            "tags": []
          },
          "execution_count": 4
        },
        {
          "output_type": "display_data",
          "data": {
            "image/png": "[encoded data removed]",
            "text/plain": [
              "<Figure size 432x288 with 1 Axes>"
            ]
          },
          "metadata": {
            "tags": []
          }
        }
      ]
    },
    {
      "cell_type": "code",
      "metadata": {
        "id": "jv5UrLnbbhrd",
        "colab_type": "code",
        "colab": {
          "base_uri": "https://localhost:8080/",
          "height": 218
        },
        "outputId": "47ec1d66-5ace-4220-9040-5f28bd711bde"
      },
      "source": [
        "class CustomCallBack(tf.keras.callbacks.Callback):\n",
        "  def on_epoch_end(self, epoch, logs={}):\n",
        "    if (logs.get(\"accuracy\") >= 0.99):\n",
        "      self.model.stop_training = True\n",
        "      print(\"Reached 99% accuracy so cancelling training!\")\n",
        "\n",
        "model = tf.keras.models.Sequential([\n",
        "  tf.keras.layers.Flatten(),\n",
        "  tf.keras.layers.Dense(units=512, activation=tf.keras.activations.relu),\n",
        "  tf.keras.layers.Dense(units=10, activation=tf.keras.activations.softmax)\n",
        "])\n",
        "\n",
        "model.compile(optimizer='adam',\n",
        "              loss='sparse_categorical_crossentropy',\n",
        "              metrics=['accuracy'])\n",
        "\n",
        "model.fit(x_train, y_train, epochs=10, callbacks=[CustomCallBack()])"
      ],
      "execution_count": 5,
      "outputs": [
        {
          "output_type": "stream",
          "text": [
            "Epoch 1/10\n",
            "1875/1875 [==============================] - 4s 2ms/step - loss: 0.2025 - accuracy: 0.9399\n",
            "Epoch 2/10\n",
            "1875/1875 [==============================] - 4s 2ms/step - loss: 0.0800 - accuracy: 0.9750\n",
            "Epoch 3/10\n",
            "1875/1875 [==============================] - 4s 2ms/step - loss: 0.0528 - accuracy: 0.9831\n",
            "Epoch 4/10\n",
            "1875/1875 [==============================] - 3s 2ms/step - loss: 0.0362 - accuracy: 0.9885\n",
            "Epoch 5/10\n",
            "1859/1875 [============================>.] - ETA: 0s - loss: 0.0284 - accuracy: 0.9906Reached 99% accuracy so cancelling training!\n",
            "1875/1875 [==============================] - 3s 2ms/step - loss: 0.0284 - accuracy: 0.9905\n"
          ],
          "name": "stdout"
        },
        {
          "output_type": "execute_result",
          "data": {
            "text/plain": [
              "<tensorflow.python.keras.callbacks.History at 0x7fd1701617b8>"
            ]
          },
          "metadata": {
            "tags": []
          },
          "execution_count": 5
        }
      ]
    },
    {
      "cell_type": "code",
      "metadata": {
        "id": "WW38C194bVEF",
        "colab_type": "code",
        "colab": {}
      },
      "source": [
        ""
      ],
      "execution_count": 0,
      "outputs": []
    }
  ]
}